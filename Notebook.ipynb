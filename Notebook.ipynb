{
 "cells": [
  {
   "cell_type": "code",
   "execution_count": 1,
   "metadata": {},
   "outputs": [],
   "source": [
    "# loading essential libraries first\n",
    "import pandas as pd\n",
    "import statsmodels.api as sm\n",
    "from statsmodels.tsa.api import VAR\n",
    "import matplotlib.pyplot as plt\n",
    "from sklearn.metrics import mean_absolute_error\n",
    "\n",
    "# EDAspy libraries\n",
    "# from TS_transformations import TSTransformations\n",
    "# from TransformationsFeatureSelection import TransformationsFSEDA as EDA\n",
    "\n"
   ]
  },
  {
   "cell_type": "code",
   "execution_count": 2,
   "metadata": {},
   "outputs": [
    {
     "data": {
      "text/html": [
       "<div>\n",
       "<style scoped>\n",
       "    .dataframe tbody tr th:only-of-type {\n",
       "        vertical-align: middle;\n",
       "    }\n",
       "\n",
       "    .dataframe tbody tr th {\n",
       "        vertical-align: top;\n",
       "    }\n",
       "\n",
       "    .dataframe thead th {\n",
       "        text-align: right;\n",
       "    }\n",
       "</style>\n",
       "<table border=\"1\" class=\"dataframe\">\n",
       "  <thead>\n",
       "    <tr style=\"text-align: right;\">\n",
       "      <th></th>\n",
       "      <th>realgdp</th>\n",
       "      <th>realcons</th>\n",
       "      <th>realinv</th>\n",
       "      <th>realgovt</th>\n",
       "      <th>realdpi</th>\n",
       "      <th>cpi</th>\n",
       "      <th>m1</th>\n",
       "      <th>tbilrate</th>\n",
       "      <th>unemp</th>\n",
       "      <th>pop</th>\n",
       "    </tr>\n",
       "  </thead>\n",
       "  <tbody>\n",
       "    <tr>\n",
       "      <th>0</th>\n",
       "      <td>2710.349</td>\n",
       "      <td>1707.4</td>\n",
       "      <td>286.898</td>\n",
       "      <td>470.045</td>\n",
       "      <td>1886.9</td>\n",
       "      <td>28.98</td>\n",
       "      <td>139.7</td>\n",
       "      <td>2.82</td>\n",
       "      <td>5.8</td>\n",
       "      <td>177.146</td>\n",
       "    </tr>\n",
       "    <tr>\n",
       "      <th>1</th>\n",
       "      <td>2778.801</td>\n",
       "      <td>1733.7</td>\n",
       "      <td>310.859</td>\n",
       "      <td>481.301</td>\n",
       "      <td>1919.7</td>\n",
       "      <td>29.15</td>\n",
       "      <td>141.7</td>\n",
       "      <td>3.08</td>\n",
       "      <td>5.1</td>\n",
       "      <td>177.830</td>\n",
       "    </tr>\n",
       "    <tr>\n",
       "      <th>2</th>\n",
       "      <td>2775.488</td>\n",
       "      <td>1751.8</td>\n",
       "      <td>289.226</td>\n",
       "      <td>491.260</td>\n",
       "      <td>1916.4</td>\n",
       "      <td>29.35</td>\n",
       "      <td>140.5</td>\n",
       "      <td>3.82</td>\n",
       "      <td>5.3</td>\n",
       "      <td>178.657</td>\n",
       "    </tr>\n",
       "    <tr>\n",
       "      <th>3</th>\n",
       "      <td>2785.204</td>\n",
       "      <td>1753.7</td>\n",
       "      <td>299.356</td>\n",
       "      <td>484.052</td>\n",
       "      <td>1931.3</td>\n",
       "      <td>29.37</td>\n",
       "      <td>140.0</td>\n",
       "      <td>4.33</td>\n",
       "      <td>5.6</td>\n",
       "      <td>179.386</td>\n",
       "    </tr>\n",
       "    <tr>\n",
       "      <th>4</th>\n",
       "      <td>2847.699</td>\n",
       "      <td>1770.5</td>\n",
       "      <td>331.722</td>\n",
       "      <td>462.199</td>\n",
       "      <td>1955.5</td>\n",
       "      <td>29.54</td>\n",
       "      <td>139.6</td>\n",
       "      <td>3.50</td>\n",
       "      <td>5.2</td>\n",
       "      <td>180.007</td>\n",
       "    </tr>\n",
       "  </tbody>\n",
       "</table>\n",
       "</div>"
      ],
      "text/plain": [
       "    realgdp  realcons  realinv  realgovt  realdpi    cpi     m1  tbilrate  \\\n",
       "0  2710.349    1707.4  286.898   470.045   1886.9  28.98  139.7      2.82   \n",
       "1  2778.801    1733.7  310.859   481.301   1919.7  29.15  141.7      3.08   \n",
       "2  2775.488    1751.8  289.226   491.260   1916.4  29.35  140.5      3.82   \n",
       "3  2785.204    1753.7  299.356   484.052   1931.3  29.37  140.0      4.33   \n",
       "4  2847.699    1770.5  331.722   462.199   1955.5  29.54  139.6      3.50   \n",
       "\n",
       "   unemp      pop  \n",
       "0    5.8  177.146  \n",
       "1    5.1  177.830  \n",
       "2    5.3  178.657  \n",
       "3    5.6  179.386  \n",
       "4    5.2  180.007  "
      ]
     },
     "execution_count": 2,
     "metadata": {},
     "output_type": "execute_result"
    }
   ],
   "source": [
    "# import some data\n",
    "mdata = sm.datasets.macrodata.load_pandas().data\n",
    "df = mdata.iloc[:, 2:12]\n",
    "df.head()"
   ]
  },
  {
   "cell_type": "code",
   "execution_count": 3,
   "metadata": {},
   "outputs": [
    {
     "data": {
      "text/plain": [
       "['realinv',\n",
       " 'tbilrate',\n",
       " 'realgdp',\n",
       " 'unemp',\n",
       " 'm1',\n",
       " 'cpi',\n",
       " 'realdpi',\n",
       " 'realcons',\n",
       " 'realgovt']"
      ]
     },
     "execution_count": 3,
     "metadata": {},
     "output_type": "execute_result"
    }
   ],
   "source": [
    "variables = list(df.columns)\n",
    "variable_y = 'pop'  # pop is the variable we want to forecast\n",
    "variables = list(set(variables) - {variable_y})  # array of variables to select among transformations\n",
    "variables"
   ]
  },
  {
   "cell_type": "code",
   "execution_count": 4,
   "metadata": {},
   "outputs": [],
   "source": [
    "TSTransf = TSTransformations(df)\n",
    "transformations = ['detrend', 'smooth', 'log']  # postfix to variables, to denote the transformation\n",
    "\n",
    "# build the transformations\n",
    "for var in variables:\n",
    "    transformation = TSTransf.de_trending(var)\n",
    "    df[var + 'detrend'] = transformation\n",
    "\n",
    "for var in variables:\n",
    "    transformation = TSTransf.smoothing(var, window=10)\n",
    "    df[var + 'smooth'] = transformation\n",
    "\n",
    "for var in variables:\n",
    "    transformation = TSTransf.log(var)\n",
    "    df[var + 'log'] = transformation"
   ]
  },
  {
   "cell_type": "code",
   "execution_count": 5,
   "metadata": {},
   "outputs": [],
   "source": [
    "def cost_function(variables_list, nobs=20, maxlags=15, forecastings=10):\n",
    "    \"\"\"\n",
    "    variables_list: list of variables without the variable_y\n",
    "    nobs: how many observations for validation\n",
    "    maxlags: previous lags used to predict\n",
    "    forecasting: number of observations to predict\n",
    "    \n",
    "    return: MAE of the prediction with the real validation data\n",
    "    \"\"\"\n",
    "    \n",
    "    data = df[variables_list + [variable_y]]\n",
    "\n",
    "    df_train, df_test = data[0:-nobs], data[-nobs:]\n",
    "\n",
    "    model = VAR(df_train)\n",
    "    results = model.fit(maxlags=maxlags, ic='aic')\n",
    "\n",
    "    lag_order = results.k_ar\n",
    "    array = results.forecast(df_train.values[-lag_order:], forecastings)\n",
    "\n",
    "    variables_ = list(data.columns)\n",
    "    position = variables_.index(variable_y)\n",
    "\n",
    "    validation = [array[i][position] for i in range(len(array))]\n",
    "    mae = mean_absolute_error(validation, df_test['pop'][-forecastings:])\n",
    "    \n",
    "    return mae"
   ]
  },
  {
   "cell_type": "code",
   "execution_count": 24,
   "metadata": {},
   "outputs": [
    {
     "name": "stdout",
     "output_type": "stream",
     "text": [
      "MAE without using EDA: 5.091478009948458\n"
     ]
    }
   ],
   "source": [
    "mae_pre_eda = cost_function(variables)\n",
    "print('MAE without using EDA:', mae_pre_eda)"
   ]
  },
  {
   "cell_type": "code",
   "execution_count": 6,
   "metadata": {},
   "outputs": [],
   "source": [
    "# initialize the initial vector of statitstics. Each variable has a 50% probability to be or not chosen\n",
    "vector = pd.DataFrame(columns=list(variables))\n",
    "vector.loc[0] = 0.5"
   ]
  },
  {
   "cell_type": "code",
   "execution_count": 7,
   "metadata": {},
   "outputs": [
    {
     "name": "stdout",
     "output_type": "stream",
     "text": [
      "[iteration: 0 ] 5.155357972950526\n",
      "[iteration: 1 ] 5.246309408804405\n",
      "[iteration: 2 ] 4.103723942647372\n",
      "[iteration: 3 ] 4.710694858969362\n",
      "[iteration: 4 ] 4.473166010597248\n",
      "[iteration: 5 ] 4.913511145463962\n",
      "[iteration: 6 ] 4.244706428986632\n",
      "[iteration: 7 ] 3.847353187863837\n",
      "[iteration: 8 ] 4.450659158760351\n",
      "[iteration: 9 ] 4.723562306804138\n",
      "[iteration: 10 ] 4.723562306804138\n",
      "[iteration: 11 ] 4.723562306804138\n"
     ]
    }
   ],
   "source": [
    "eda = EDA(max_it=50, dead_it=5, size_gen=15, alpha=0.7, vector=vector,\n",
    "          array_transformations=transformations, cost_function=cost_function)\n",
    "best_ind, best_MAE = eda.run(output=True)"
   ]
  },
  {
   "cell_type": "code",
   "execution_count": 25,
   "metadata": {},
   "outputs": [
    {
     "name": "stdout",
     "output_type": "stream",
     "text": [
      "Solution: ['realinvsmooth', 'tbilratelog', 'realgdpdetrend', 'm1detrend', 'cpibasic', 'realconssmooth', 'realgovtbasic'] \n",
      "MAE post EDA: 3.85 \n",
      "MAE pre EDA: 5.09\n"
     ]
    },
    {
     "data": {
      "image/png": "[encoded data removed]",
      "text/plain": [
       "<Figure size 1008x432 with 2 Axes>"
      ]
     },
     "metadata": {
      "needs_background": "light"
     },
     "output_type": "display_data"
    }
   ],
   "source": [
    "# some plots\n",
    "hist = eda.historic_best\n",
    "\n",
    "relative_plot = []\n",
    "mx = 999999999\n",
    "for i in range(len(hist)):\n",
    "    if hist[i] < mx:\n",
    "        mx = hist[i]\n",
    "        relative_plot.append(mx)\n",
    "    else:\n",
    "        relative_plot.append(mx)\n",
    "\n",
    "print('Solution:', best_ind, '\\nMAE post EDA: %.2f' % best_MAE, '\\nMAE pre EDA: %.2f' % mae_pre_eda)\n",
    "\n",
    "plt.figure(figsize = (14,6))\n",
    "\n",
    "ax = plt.subplot(121)\n",
    "ax.plot(list(range(len(hist))), hist)\n",
    "ax.title.set_text('Local cost found')\n",
    "ax.set_xlabel('iteration')\n",
    "ax.set_ylabel('MAE')\n",
    "\n",
    "ax = plt.subplot(122)\n",
    "ax.plot(list(range(len(relative_plot))), relative_plot)\n",
    "ax.title.set_text('Best global cost found')\n",
    "ax.set_xlabel('iteration')\n",
    "ax.set_ylabel('MAE')\n",
    "\n",
    "plt.show()"
   ]
  },
  {
   "cell_type": "code",
   "execution_count": null,
   "metadata": {},
   "outputs": [],
   "source": []
  }
 ],
 "metadata": {
  "kernelspec": {
   "display_name": "Python 3",
   "language": "python",
   "name": "python3"
  },
  "language_info": {
   "codemirror_mode": {
    "name": "ipython",
    "version": 3
   },
   "file_extension": ".py",
   "mimetype": "text/x-python",
   "name": "python",
   "nbconvert_exporter": "python",
   "pygments_lexer": "ipython3",
   "version": "3.8.5"
  }
 },
 "nbformat": 4,
 "nbformat_minor": 4
}
